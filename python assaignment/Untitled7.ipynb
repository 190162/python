{
 "cells": [
  {
   "cell_type": "code",
   "execution_count": 48,
   "id": "fabf2271",
   "metadata": {},
   "outputs": [
    {
     "name": "stdout",
     "output_type": "stream",
     "text": [
      "Grade A\n"
     ]
    }
   ],
   "source": [
    "islamiyat = 99;\n",
    "if islamiyat < 100 and islamiyat > 80:\n",
    "    print (\"Grade A\");\n",
    "elif islamiyat < 80 and islamiyat > 79:\n",
    "    print (\"Grade B\")\n",
    "else:\n",
    "    print (\"Fail\");"
   ]
  },
  {
   "cell_type": "code",
   "execution_count": 39,
   "id": "17acccae",
   "metadata": {},
   "outputs": [
    {
     "ename": "SyntaxError",
     "evalue": "invalid syntax (<ipython-input-39-09c8c0f0fec6>, line 8)",
     "output_type": "error",
     "traceback": [
      "\u001b[1;36m  File \u001b[1;32m\"<ipython-input-39-09c8c0f0fec6>\"\u001b[1;36m, line \u001b[1;32m8\u001b[0m\n\u001b[1;33m    elif Z < 250 and Z > 220;\u001b[0m\n\u001b[1;37m                            ^\u001b[0m\n\u001b[1;31mSyntaxError\u001b[0m\u001b[1;31m:\u001b[0m invalid syntax\n"
     ]
    }
   ],
   "source": [
    "Maths    = 99\n",
    "Islamyat = 99\n",
    "Eng      = 89\n",
    "Z= Maths + Islamyat+Eng;\n",
    "print (Z);\n",
    "if  Z < 300 and Z > 250:\n",
    "    print (\"Grade A\");\n",
    "elif Z < 250 and Z > 220;\n",
    "    print (\"Grade B\");\n",
    "elif Z< 220 and Z > 190:\n",
    "    print (\"Grade C\");\n",
    "else \n",
    "    print (\"you are Fail\");\n",
    "\n"
   ]
  },
  {
   "cell_type": "code",
   "execution_count": 60,
   "id": "412dd8a7",
   "metadata": {},
   "outputs": [
    {
     "name": "stdout",
     "output_type": "stream",
     "text": [
      "153\n",
      "Sorry you are Fail\n"
     ]
    }
   ],
   "source": [
    "Maths    = 66\n",
    "Islamyat = 76\n",
    "Eng      = 11\n",
    "Z= Maths + Islamyat+Eng;\n",
    "print (Z);\n",
    "if  Z < 300 and Z > 250:\n",
    "    print (\"Grade A\");\n",
    "if  Z < 250 and Z > 200:\n",
    "    print (\"Grade B\");\n",
    "else:\n",
    "    print (\"Sorry you are Fail\");\n",
    "\n"
   ]
  },
  {
   "cell_type": "code",
   "execution_count": null,
   "id": "a6799b37",
   "metadata": {},
   "outputs": [],
   "source": []
  },
  {
   "cell_type": "code",
   "execution_count": null,
   "id": "681f5754",
   "metadata": {},
   "outputs": [],
   "source": []
  }
 ],
 "metadata": {
  "kernelspec": {
   "display_name": "Python 3",
   "language": "python",
   "name": "python3"
  },
  "language_info": {
   "codemirror_mode": {
    "name": "ipython",
    "version": 3
   },
   "file_extension": ".py",
   "mimetype": "text/x-python",
   "name": "python",
   "nbconvert_exporter": "python",
   "pygments_lexer": "ipython3",
   "version": "3.8.8"
  }
 },
 "nbformat": 4,
 "nbformat_minor": 5
}
