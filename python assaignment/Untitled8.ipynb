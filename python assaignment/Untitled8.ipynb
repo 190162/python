{
 "cells": [
  {
   "cell_type": "code",
   "execution_count": 32,
   "id": "edd3e9fc",
   "metadata": {},
   "outputs": [
    {
     "name": "stdout",
     "output_type": "stream",
     "text": [
      "109\n",
      "y0u are Fail\n"
     ]
    }
   ],
   "source": [
    "phy= 76;\n",
    "chem=10;\n",
    "maths=23;\n",
    "Z = phy+ chem+maths;\n",
    "print (Z);\n",
    "if Z > 250 and Z < 300:\n",
    "    print(\"grade A\");\n",
    "elif Z > 200 and Z < 250:\n",
    "    print(\"grade b\");\n",
    "elif Z > 150 and Z < 200:\n",
    "    print (\" You are pass\")\n",
    "else:\n",
    "    print (\"y0u are Fail\")\n",
    "    "
   ]
  },
  {
   "cell_type": "code",
   "execution_count": null,
   "id": "4d620791",
   "metadata": {},
   "outputs": [],
   "source": []
  },
  {
   "cell_type": "code",
   "execution_count": null,
   "id": "28f6fb7a",
   "metadata": {},
   "outputs": [],
   "source": []
  }
 ],
 "metadata": {
  "kernelspec": {
   "display_name": "Python 3",
   "language": "python",
   "name": "python3"
  },
  "language_info": {
   "codemirror_mode": {
    "name": "ipython",
    "version": 3
   },
   "file_extension": ".py",
   "mimetype": "text/x-python",
   "name": "python",
   "nbconvert_exporter": "python",
   "pygments_lexer": "ipython3",
   "version": "3.8.8"
  }
 },
 "nbformat": 4,
 "nbformat_minor": 5
}
