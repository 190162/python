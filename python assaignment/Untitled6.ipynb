{
 "cells": [
  {
   "cell_type": "code",
   "execution_count": 6,
   "id": "c8be8860",
   "metadata": {},
   "outputs": [
    {
     "ename": "SyntaxError",
     "evalue": "invalid syntax (<ipython-input-6-57e3868c7b22>, line 2)",
     "output_type": "error",
     "traceback": [
      "\u001b[1;36m  File \u001b[1;32m\"<ipython-input-6-57e3868c7b22>\"\u001b[1;36m, line \u001b[1;32m2\u001b[0m\n\u001b[1;33m    if percentag<100 and percentag> 80;\u001b[0m\n\u001b[1;37m                                      ^\u001b[0m\n\u001b[1;31mSyntaxError\u001b[0m\u001b[1;31m:\u001b[0m invalid syntax\n"
     ]
    }
   ],
   "source": [
    "percentage= 67;\n",
    "if percentag<100 and percentag> 80;\n",
    "print(\"Grade A\");\n",
    "elif percentag<80 and percentag>60;\n",
    "pint (\"Grade B\");\n",
    "else print(\"Fail\");"
   ]
  },
  {
   "cell_type": "code",
   "execution_count": 7,
   "id": "43c473a0",
   "metadata": {},
   "outputs": [
    {
     "ename": "SyntaxError",
     "evalue": "invalid syntax (<ipython-input-7-c9100f05e627>, line 2)",
     "output_type": "error",
     "traceback": [
      "\u001b[1;36m  File \u001b[1;32m\"<ipython-input-7-c9100f05e627>\"\u001b[1;36m, line \u001b[1;32m2\u001b[0m\n\u001b[1;33m    if percent < 100 and percent > 80;\u001b[0m\n\u001b[1;37m                                     ^\u001b[0m\n\u001b[1;31mSyntaxError\u001b[0m\u001b[1;31m:\u001b[0m invalid syntax\n"
     ]
    }
   ],
   "source": [
    "percent = 82;\n",
    "if percent < 100 and percent > 80;\n",
    "print (\"Grade A\");\n",
    "elif percent < 80 and percent > 70;\n",
    "print (\"grade B\");\n",
    "else print (\"Fail\";)"
   ]
  },
  {
   "cell_type": "code",
   "execution_count": null,
   "id": "8f75b1dc",
   "metadata": {},
   "outputs": [],
   "source": []
  }
 ],
 "metadata": {
  "kernelspec": {
   "display_name": "Python 3",
   "language": "python",
   "name": "python3"
  },
  "language_info": {
   "codemirror_mode": {
    "name": "ipython",
    "version": 3
   },
   "file_extension": ".py",
   "mimetype": "text/x-python",
   "name": "python",
   "nbconvert_exporter": "python",
   "pygments_lexer": "ipython3",
   "version": "3.8.8"
  }
 },
 "nbformat": 4,
 "nbformat_minor": 5
}
