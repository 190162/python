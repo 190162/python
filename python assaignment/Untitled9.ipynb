{
 "cells": [
  {
   "cell_type": "code",
   "execution_count": 9,
   "id": "790872af",
   "metadata": {},
   "outputs": [
    {
     "name": "stdout",
     "output_type": "stream",
     "text": [
      "enter eng marks23\n",
      "enter maths marsk65\n",
      "enter comp marks100\n"
     ]
    },
    {
     "ename": "TypeError",
     "evalue": "unsupported operand type(s) for /: 'str' and 'int'",
     "output_type": "error",
     "traceback": [
      "\u001b[1;31m---------------------------------------------------------------------------\u001b[0m",
      "\u001b[1;31mTypeError\u001b[0m                                 Traceback (most recent call last)",
      "\u001b[1;32m<ipython-input-9-6130e0ec3544>\u001b[0m in \u001b[0;36m<module>\u001b[1;34m\u001b[0m\n\u001b[0;32m      3\u001b[0m \u001b[0mcomp\u001b[0m \u001b[1;33m=\u001b[0m \u001b[0minput\u001b[0m\u001b[1;33m(\u001b[0m\u001b[1;34m\"enter comp marks\"\u001b[0m\u001b[1;33m)\u001b[0m\u001b[1;33m;\u001b[0m\u001b[1;33m\u001b[0m\u001b[1;33m\u001b[0m\u001b[0m\n\u001b[0;32m      4\u001b[0m \u001b[0mtotal\u001b[0m \u001b[1;33m=\u001b[0m \u001b[1;36m300\u001b[0m\u001b[1;33m;\u001b[0m\u001b[1;33m\u001b[0m\u001b[1;33m\u001b[0m\u001b[0m\n\u001b[1;32m----> 5\u001b[1;33m \u001b[0mpercentage\u001b[0m \u001b[1;33m=\u001b[0m \u001b[1;33m(\u001b[0m\u001b[0meng\u001b[0m \u001b[1;33m+\u001b[0m \u001b[0mmaths\u001b[0m \u001b[1;33m+\u001b[0m \u001b[0mcomp\u001b[0m \u001b[1;33m)\u001b[0m\u001b[1;33m/\u001b[0m\u001b[0mtotal\u001b[0m\u001b[1;33m*\u001b[0m\u001b[1;36m100\u001b[0m\u001b[1;33m\u001b[0m\u001b[1;33m\u001b[0m\u001b[0m\n\u001b[0m\u001b[0;32m      6\u001b[0m \u001b[1;32mif\u001b[0m \u001b[0mpercentage\u001b[0m \u001b[1;33m<\u001b[0m \u001b[1;36m80\u001b[0m \u001b[1;32mand\u001b[0m \u001b[0mpercent\u001b[0m \u001b[1;33m>=\u001b[0m \u001b[1;36m50\u001b[0m\u001b[1;33m:\u001b[0m\u001b[1;33m\u001b[0m\u001b[1;33m\u001b[0m\u001b[0m\n\u001b[0;32m      7\u001b[0m     \u001b[0mprint\u001b[0m \u001b[1;33m(\u001b[0m\u001b[1;34m\"A\"\u001b[0m\u001b[1;33m)\u001b[0m\u001b[1;33m;\u001b[0m\u001b[1;33m\u001b[0m\u001b[1;33m\u001b[0m\u001b[0m\n",
      "\u001b[1;31mTypeError\u001b[0m: unsupported operand type(s) for /: 'str' and 'int'"
     ]
    }
   ],
   "source": [
    "eng = input(\"enter eng marks\");\n",
    "maths = input(\"enter maths marsk\");\n",
    "comp = input(\"enter comp marks\");\n",
    "total = 300;\n",
    "percentage = (eng + maths + comp )/total*100\n",
    "if percentage < 80 and percent >= 50:\n",
    "    print (\"A\");\n",
    "else:\n",
    "    print (\"Fail\")"
   ]
  },
  {
   "cell_type": "code",
   "execution_count": 12,
   "id": "35a7ef3f",
   "metadata": {},
   "outputs": [
    {
     "name": "stdout",
     "output_type": "stream",
     "text": [
      "Enter a value33\n",
      "58\n"
     ]
    }
   ],
   "source": [
    "x = (input(\"Enter a value\"));\n",
    "y = 25\n",
    "z = int(x) + y;\n",
    "print(z);"
   ]
  },
  {
   "cell_type": "code",
   "execution_count": 14,
   "id": "35551552",
   "metadata": {},
   "outputs": [
    {
     "name": "stdout",
     "output_type": "stream",
     "text": [
      "enter eng marks99\n",
      "enter maths marsk78\n",
      "enter comp marks100\n",
      "Fail\n"
     ]
    }
   ],
   "source": [
    "eng = int(input(\"enter eng marks\"));\n",
    "maths = int(input(\"enter maths marsk\"));\n",
    "comp = int(input(\"enter comp marks\"));\n",
    "total = 300;\n",
    "percentage = (eng + maths + comp )/total*100\n",
    "if percentage < 80 and percent >= 50:\n",
    "    print (\"A\");\n",
    "else:\n",
    "    print (\"Fail\")"
   ]
  },
  {
   "cell_type": "code",
   "execution_count": 16,
   "id": "db70b49c",
   "metadata": {},
   "outputs": [
    {
     "name": "stdout",
     "output_type": "stream",
     "text": [
      "6561\n",
      "81\n"
     ]
    }
   ],
   "source": [
    "x = 3**8\n",
    "print(x)\n",
    "x= 3**4\n",
    "print(x)"
   ]
  },
  {
   "cell_type": "code",
   "execution_count": 18,
   "id": "1ace87e4",
   "metadata": {},
   "outputs": [
    {
     "name": "stdout",
     "output_type": "stream",
     "text": [
      "Hello \n",
      "World\n"
     ]
    }
   ],
   "source": [
    "print(\"Hello \\nWorld\");"
   ]
  },
  {
   "cell_type": "code",
   "execution_count": null,
   "id": "bb07c563",
   "metadata": {},
   "outputs": [],
   "source": [
    "age = input (\"enter ur age\");\n",
    "gender= input (\"enter age\");\n",
    "if age > 18 and gender == \"mail\":\n",
    "    print(\"Allow\");\n",
    "else:\n",
    "    print (\"restricted\");"
   ]
  },
  {
   "cell_type": "code",
   "execution_count": null,
   "id": "d79f4379",
   "metadata": {},
   "outputs": [],
   "source": []
  },
  {
   "cell_type": "code",
   "execution_count": null,
   "id": "b1021d9d",
   "metadata": {},
   "outputs": [],
   "source": []
  }
 ],
 "metadata": {
  "kernelspec": {
   "display_name": "Python 3",
   "language": "python",
   "name": "python3"
  },
  "language_info": {
   "codemirror_mode": {
    "name": "ipython",
    "version": 3
   },
   "file_extension": ".py",
   "mimetype": "text/x-python",
   "name": "python",
   "nbconvert_exporter": "python",
   "pygments_lexer": "ipython3",
   "version": "3.8.8"
  }
 },
 "nbformat": 4,
 "nbformat_minor": 5
}
